{
 "cells": [
  {
   "cell_type": "code",
   "execution_count": null,
   "metadata": {},
   "outputs": [],
   "source": [
    "%load_ext autoreload\n",
    "%autoreload 2\n",
    "%matplotlib inline"
   ]
  },
  {
   "cell_type": "code",
   "execution_count": null,
   "metadata": {},
   "outputs": [],
   "source": [
    "import os, pathlib \n",
    "ROOT_DIR = os.path.join(str(pathlib.Path.home()), \"MonoGS\")\n",
    "print(f\"Changing working directory to {ROOT_DIR}\")\n",
    "os.chdir(ROOT_DIR)"
   ]
  },
  {
   "cell_type": "code",
   "execution_count": null,
   "metadata": {},
   "outputs": [],
   "source": [
    "from munch import munchify\n",
    "from utils.config_utils import load_config\n",
    "from utils.dataset import load_dataset\n",
    "\n",
    "pc_path = os.path.join(str(pathlib.Path.home()), \"MonoGS/results/datasets_tum/2024-04-29-18-45-13/point_cloud/final/point_cloud.ply\")\n",
    "config_path = \"./configs/mono/tum/fr3_office.yaml\" \n",
    "config = load_config(config_path)\n",
    "dataset = load_dataset(None, None, config)\n",
    "\n",
    "model_params = munchify(config[\"model_params\"])\n",
    "pipeline_params = munchify(config[\"pipeline_params\"])\n",
    "print(model_params)\n",
    "print(pipeline_params)\n"
   ]
  },
  {
   "cell_type": "code",
   "execution_count": null,
   "metadata": {},
   "outputs": [],
   "source": [
    "from gaussian_splatting.scene.gaussian_model import GaussianModel\n",
    "gaussians = GaussianModel(model_params.sh_degree, config=config)\n",
    "gaussians.load_ply(pc_path)"
   ]
  },
  {
   "cell_type": "code",
   "execution_count": null,
   "metadata": {},
   "outputs": [],
   "source": [
    "from utils.camera_utils import Camera\n",
    "from gaussian_splatting.utils.graphics_utils import getProjectionMatrix2, getWorld2View2\n",
    "device = \"cuda:0\"\n",
    "curr_frame_idx = 1233\n",
    "projection_matrix = getProjectionMatrix2(\n",
    "    znear=0.01,\n",
    "    zfar=100.0,\n",
    "    fx=dataset.fx,\n",
    "    fy=dataset.fy,\n",
    "    cx=dataset.cx,\n",
    "    cy=dataset.cy,\n",
    "    W=dataset.width,\n",
    "    H=dataset.height,\n",
    ").transpose(0, 1)\n",
    "\n",
    "projection_matrix = projection_matrix.to(device=device)\n",
    "viewpoint = Camera.init_from_dataset(\n",
    "    dataset, curr_frame_idx, projection_matrix\n",
    ")"
   ]
  },
  {
   "cell_type": "code",
   "execution_count": null,
   "metadata": {},
   "outputs": [],
   "source": [
    "# from matplotlib import pyplot as plt\n",
    "# viewpoint.compute_grad_mask(config)\n",
    "# plt.imshow(viewpoint.grad_mask.cpu().numpy().squeeze())"
   ]
  },
  {
   "cell_type": "code",
   "execution_count": null,
   "metadata": {},
   "outputs": [],
   "source": [
    "from gaussian_splatting.gaussian_renderer import render\n",
    "import torch\n",
    "bg_color = [0, 0, 0]\n",
    "background = torch.tensor(bg_color, dtype=torch.float32, device=\"cuda:0\")\n",
    "render_pkg = render(\n",
    "    viewpoint, gaussians, pipeline_params, background\n",
    ")\n",
    "for k, v in render_pkg.items():\n",
    "    print(\"-\"*10, k, \"-\"*10)\n",
    "    print(v.shape)"
   ]
  },
  {
   "cell_type": "code",
   "execution_count": null,
   "metadata": {},
   "outputs": [],
   "source": [
    "viewspace_points = render_pkg[\"viewspace_points\"]\n",
    "visibility_filter = render_pkg[\"visibility_filter\"]\n",
    "radii = render_pkg[\"radii\"]\n",
    "visible_viewspace_points = viewspace_points[visibility_filter]"
   ]
  },
  {
   "cell_type": "code",
   "execution_count": null,
   "metadata": {},
   "outputs": [],
   "source": [
    "visible_viewspace_points.min()"
   ]
  },
  {
   "cell_type": "code",
   "execution_count": null,
   "metadata": {},
   "outputs": [],
   "source": [
    "from matplotlib import pyplot as plt\n",
    "fig = plt.figure(figsize=(10, 10))\n",
    "ax1 = fig.add_subplot(131)\n",
    "ax1.imshow(render_pkg[\"render\"].permute(1, 2, 0).detach().cpu().numpy())\n",
    "ax1.set_title(\"Render\")\n",
    "ax1.set_axis_off()\n",
    "\n",
    "ax2 = fig.add_subplot(132)\n",
    "ax2.imshow(render_pkg[\"depth\"].permute(1, 2, 0).detach().cpu().numpy())\n",
    "ax2.set_title(\"Depth\")\n",
    "ax2.set_axis_off()\n",
    "\n",
    "ax3 = fig.add_subplot(133)\n",
    "ax3.imshow(render_pkg[\"opacity\"].permute(1, 2, 0).detach().cpu().numpy())\n",
    "ax3.set_title(\"Opacity\")\n",
    "ax3.set_axis_off()"
   ]
  },
  {
   "cell_type": "code",
   "execution_count": null,
   "metadata": {},
   "outputs": [],
   "source": [
    "h, w = render_pkg[\"render\"].shape[1:]\n",
    "n = render_pkg[\"n_touched\"].shape[0]\n",
    "n/(h*w)"
   ]
  }
 ],
 "metadata": {
  "kernelspec": {
   "display_name": "MonoGS",
   "language": "python",
   "name": "python3"
  },
  "language_info": {
   "codemirror_mode": {
    "name": "ipython",
    "version": 3
   },
   "file_extension": ".py",
   "mimetype": "text/x-python",
   "name": "python",
   "nbconvert_exporter": "python",
   "pygments_lexer": "ipython3",
   "version": "3.7.13"
  }
 },
 "nbformat": 4,
 "nbformat_minor": 2
}
