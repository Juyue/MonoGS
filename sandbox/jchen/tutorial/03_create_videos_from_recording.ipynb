{
 "cells": [
  {
   "cell_type": "code",
   "execution_count": 5,
   "metadata": {},
   "outputs": [],
   "source": [
    "# !pip install moviepy"
   ]
  },
  {
   "cell_type": "code",
   "execution_count": 6,
   "metadata": {},
   "outputs": [],
   "source": [
    "import os, pathlib\n",
    "import glob\n",
    "from moviepy.editor import ImageClip, concatenate_videoclips\n",
    "\n",
    "INPUT_DIR = os.path.join(pathlib.Path.home(), \"MonoGS\", \"recording\")\n",
    "OUTPUT_DIR = os.path.join(\"/nfs/jchen/test/monogs/vis/\")\n",
    "\n",
    "def export_recording_as_video(input_dir=INPUT_DIR, output_dir=OUTPUT_DIR, fname_prefix=\"gui\", output_fname_prefix=None, fps=60, bitrate=\"4000k\", dry_run=False):\n",
    "    duration = 1/fps\n",
    "    # load folder\n",
    "    if  not os.path.exists(input_dir):\n",
    "        print(f\"There is no {input_dir} folder\")\n",
    "    \n",
    "    if not os.path.exists(output_dir):\n",
    "        print(f\"There is no {output_dir} folder. Making one...\")\n",
    "        os.makedirs(output_dir, exist_ok=True)\n",
    "\n",
    "    image_paths = sorted(glob.glob(os.path.join(input_dir, f\"{fname_prefix}*.png\")))\n",
    "    print(f\"There are {len(image_paths)} images in the folder\")\n",
    "\n",
    "    # Create a list of image clips\n",
    "    clips = [ImageClip(path).set_duration(duration) for path in image_paths]\n",
    "\n",
    "    # Concatenate the image clips\n",
    "    video_clip = concatenate_videoclips(clips, method=\"compose\")\n",
    "\n",
    "    # Write the video to a file with the specified bitrate\n",
    "    if output_fname_prefix is None:\n",
    "        output_fname_prefix = \"tmp\"\n",
    "    output_fname = f\"{output_fname_prefix}_{fname_prefix}.mp4\"\n",
    "    output_filepath = os.path.join(output_dir, f\"{output_fname}\")\n",
    "    print(f\"Writing video to {output_filepath}\")\n",
    "    if not dry_run:\n",
    "        video_clip.write_videofile(output_filepath, bitrate=bitrate, fps=fps)"
   ]
  },
  {
   "cell_type": "code",
   "execution_count": 13,
   "metadata": {},
   "outputs": [
    {
     "ename": "",
     "evalue": "",
     "output_type": "error",
     "traceback": [
      "\u001b[1;31mThe Kernel crashed while executing code in the the current cell or a previous cell. Please review the code in the cell(s) to identify a possible cause of the failure. Click <a href='https://aka.ms/vscodeJupyterKernelCrash'>here</a> for more info. View Jupyter <a href='command:jupyter.viewOutput'>log</a> for further details."
     ]
    }
   ],
   "source": [
    "# !rm -rf ~/MonoGS/recording/*.mp4\n",
    "# !rm -rf ~/MonoGS/recording/*.png"
   ]
  },
  {
   "cell_type": "code",
   "execution_count": 11,
   "metadata": {},
   "outputs": [
    {
     "name": "stdout",
     "output_type": "stream",
     "text": [
      "-rw-rw-r--  1 ubuntu ubuntu   35M May  2 18:04 fr3_office_20240501_1_gui.mp4\n",
      "-rw-rw-r--  1 ubuntu ubuntu   52M May  2 18:01 fr3_office_20240501_1_ellipsoid.mp4\n"
     ]
    }
   ],
   "source": [
    "# !ls -athl ~/MonoGS/recording | grep .mp4 "
   ]
  },
  {
   "cell_type": "code",
   "execution_count": 12,
   "metadata": {},
   "outputs": [],
   "source": [
    "# !cp ~/MonoGS/recording/*.mp4 /nfs/jchen/test/monogs/vis/"
   ]
  },
  {
   "cell_type": "code",
   "execution_count": 4,
   "metadata": {},
   "outputs": [
    {
     "name": "stdout",
     "output_type": "stream",
     "text": [
      "total 80M\n",
      "-rw-r--r-- 1 ubuntu ubuntu  17M May  2 15:08 fr3_office_2_gui.mp4\n",
      "drwxr-xr-x 2 ubuntu ubuntu 4.0K May  2 15:08 .\n",
      "-rw-r--r-- 1 ubuntu ubuntu  27M May  2 15:08 fr3_office_2_ellipsoid.mp4\n",
      "-rw-r--r-- 1 ubuntu ubuntu  10M May  1 21:30 pick_tote_gui.mp4\n",
      "-rw-r--r-- 1 ubuntu ubuntu 356K May  1 21:30 pick_tote_opacity.mp4\n",
      "-rw-r--r-- 1 ubuntu ubuntu 6.8M May  1 21:30 pick_tote_ellipsoid.mp4\n",
      "-rw-r--r-- 1 ubuntu ubuntu 919K May  1 18:10 fr3_office_ellipsoid.mp4\n",
      "-rw-r--r-- 1 ubuntu ubuntu 7.9M May  1 18:10 fr3_office_gui.mp4\n",
      "-rw-r--r-- 1 ubuntu ubuntu 692K May  1 18:10 fr3_office_opacity.mp4\n",
      "-rw-r--r-- 1 ubuntu ubuntu 692K May  1 18:03 tmp_opacity.mp4\n",
      "-rw-r--r-- 1 ubuntu ubuntu 919K May  1 18:03 tmp_ellipsoid.mp4\n",
      "-rw-r--r-- 1 ubuntu ubuntu 7.9M May  1 18:03 tmp_gui.mp4\n",
      "drwxr-xr-x 2 ubuntu ubuntu 4.0K May  1 17:53 ..\n"
     ]
    }
   ],
   "source": [
    "# !ls  -athl /nfs/jchen/test/monogs/vis/"
   ]
  },
  {
   "cell_type": "code",
   "execution_count": 10,
   "metadata": {},
   "outputs": [
    {
     "name": "stdout",
     "output_type": "stream",
     "text": [
      "There are 113 images in the folder\n",
      "Writing video to /home/ubuntu/MonoGS/recording/fr3_office_20240501_1_ellipsoid.mp4\n",
      "Moviepy - Building video /home/ubuntu/MonoGS/recording/fr3_office_20240501_1_ellipsoid.mp4.\n",
      "Moviepy - Writing video /home/ubuntu/MonoGS/recording/fr3_office_20240501_1_ellipsoid.mp4\n",
      "\n"
     ]
    },
    {
     "name": "stderr",
     "output_type": "stream",
     "text": [
      "                                                              \r"
     ]
    },
    {
     "name": "stdout",
     "output_type": "stream",
     "text": [
      "Moviepy - Done !\n",
      "Moviepy - video ready /home/ubuntu/MonoGS/recording/fr3_office_20240501_1_ellipsoid.mp4\n",
      "There are 4291 images in the folder\n",
      "Writing video to /home/ubuntu/MonoGS/recording/fr3_office_20240501_1_gui.mp4\n",
      "Moviepy - Building video /home/ubuntu/MonoGS/recording/fr3_office_20240501_1_gui.mp4.\n",
      "Moviepy - Writing video /home/ubuntu/MonoGS/recording/fr3_office_20240501_1_gui.mp4\n",
      "\n"
     ]
    },
    {
     "name": "stderr",
     "output_type": "stream",
     "text": [
      "                                                                \r"
     ]
    },
    {
     "name": "stdout",
     "output_type": "stream",
     "text": [
      "Moviepy - Done !\n",
      "Moviepy - video ready /home/ubuntu/MonoGS/recording/fr3_office_20240501_1_gui.mp4\n"
     ]
    }
   ],
   "source": [
    "dry_run = False\n",
    "output_fname_prefix = \"fr3_office_20240501_1\"\n",
    "# output_fname_prefix = \"pick_tote\"\n",
    "OUTPUT_DIR = INPUT_DIR \n",
    "export_recording_as_video(fname_prefix=\"ellipsoid\", dry_run=dry_run, output_fname_prefix=output_fname_prefix, output_dir=OUTPUT_DIR, fps=1)\n",
    "export_recording_as_video(fname_prefix=\"gui\", dry_run=dry_run, output_fname_prefix=output_fname_prefix, output_dir=OUTPUT_DIR)\n",
    "# export_recording_as_video(fname_prefix=\"opacity\", dry_run=dry_run, output_fname_prefix=output_fname_prefix, output_dir=OUTPUT_DIR)"
   ]
  },
  {
   "cell_type": "code",
   "execution_count": null,
   "metadata": {},
   "outputs": [],
   "source": []
  }
 ],
 "metadata": {
  "kernelspec": {
   "display_name": "MonoGS",
   "language": "python",
   "name": "python3"
  },
  "language_info": {
   "codemirror_mode": {
    "name": "ipython",
    "version": 3
   },
   "file_extension": ".py",
   "mimetype": "text/x-python",
   "name": "python",
   "nbconvert_exporter": "python",
   "pygments_lexer": "ipython3",
   "version": "3.7.13"
  }
 },
 "nbformat": 4,
 "nbformat_minor": 2
}
