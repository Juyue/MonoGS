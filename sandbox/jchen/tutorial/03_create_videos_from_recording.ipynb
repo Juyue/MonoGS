{
 "cells": [
  {
   "cell_type": "code",
   "execution_count": null,
   "metadata": {},
   "outputs": [],
   "source": [
    "# !pip install moviepy"
   ]
  },
  {
   "cell_type": "code",
   "execution_count": null,
   "metadata": {},
   "outputs": [],
   "source": [
    "import os, pathlib\n",
    "import glob\n",
    "from moviepy.editor import ImageClip, concatenate_videoclips\n",
    "\n",
    "INPUT_DIR = os.path.join(pathlib.Path.home(), \"MonoGS\", \"recording\")\n",
    "OUTPUT_DIR = os.path.join(\"/nfs/jchen/test/monogs/vis/\")\n",
    "\n",
    "def export_recording_as_video(input_dir=INPUT_DIR, output_dir=OUTPUT_DIR, fname_prefix=\"gui\", output_fname_prefix=None, fps=60, bitrate=\"4000k\", dry_run=False):\n",
    "    duration = 1/fps\n",
    "    # load folder\n",
    "    if  not os.path.exists(input_dir):\n",
    "        print(f\"There is no {input_dir} folder\")\n",
    "    \n",
    "    if not os.path.exists(output_dir):\n",
    "        print(f\"There is no {output_dir} folder. Making one...\")\n",
    "        os.makedirs(output_dir, exist_ok=True)\n",
    "\n",
    "    image_paths = sorted(glob.glob(os.path.join(input_dir, f\"{fname_prefix}*.png\")))\n",
    "    print(f\"There are {len(image_paths)} images in the folder\")\n",
    "\n",
    "    # Create a list of image clips\n",
    "    clips = [ImageClip(path).set_duration(duration) for path in image_paths]\n",
    "\n",
    "    # Concatenate the image clips\n",
    "    video_clip = concatenate_videoclips(clips, method=\"compose\")\n",
    "\n",
    "    # Write the video to a file with the specified bitrate\n",
    "    if output_fname_prefix is None:\n",
    "        output_fname_prefix = \"tmp\"\n",
    "    output_fname = f\"{output_fname_prefix}_{fname_prefix}.mp4\"\n",
    "    output_filepath = os.path.join(output_dir, f\"{output_fname}\")\n",
    "    print(f\"Writing video to {output_filepath}\")\n",
    "    if not dry_run:\n",
    "        video_clip.write_videofile(output_filepath, bitrate=bitrate, fps=fps)"
   ]
  },
  {
   "cell_type": "code",
   "execution_count": null,
   "metadata": {},
   "outputs": [],
   "source": [
    "# !rm -rf ~/MonoGS/recording/*.mp4\n",
    "# !rm -rf ~/MonoGS/recording/*.png"
   ]
  },
  {
   "cell_type": "code",
   "execution_count": null,
   "metadata": {},
   "outputs": [],
   "source": [
    "# !ls -athl ~/MonoGS/recording | grep .mp4 "
   ]
  },
  {
   "cell_type": "code",
   "execution_count": null,
   "metadata": {},
   "outputs": [],
   "source": [
    "# !cp ~/MonoGS/recording/*.mp4 /nfs/jchen/test/monogs/vis/"
   ]
  },
  {
   "cell_type": "code",
   "execution_count": null,
   "metadata": {},
   "outputs": [],
   "source": [
    "# !ls  -athl /nfs/jchen/test/monogs/vis/"
   ]
  },
  {
   "cell_type": "code",
   "execution_count": null,
   "metadata": {},
   "outputs": [],
   "source": [
    "dry_run = False\n",
    "output_fname_prefix = \"fr3_office_20240501_1\"\n",
    "# output_fname_prefix = \"pick_tote\"\n",
    "OUTPUT_DIR = INPUT_DIR \n",
    "export_recording_as_video(fname_prefix=\"ellipsoid\", dry_run=dry_run, output_fname_prefix=output_fname_prefix, output_dir=OUTPUT_DIR, fps=1)\n",
    "export_recording_as_video(fname_prefix=\"gui\", dry_run=dry_run, output_fname_prefix=output_fname_prefix, output_dir=OUTPUT_DIR)\n",
    "# export_recording_as_video(fname_prefix=\"opacity\", dry_run=dry_run, output_fname_prefix=output_fname_prefix, output_dir=OUTPUT_DIR)"
   ]
  },
  {
   "cell_type": "code",
   "execution_count": null,
   "metadata": {},
   "outputs": [],
   "source": []
  }
 ],
 "metadata": {
  "kernelspec": {
   "display_name": "MonoGS",
   "language": "python",
   "name": "python3"
  },
  "language_info": {
   "codemirror_mode": {
    "name": "ipython",
    "version": 3
   },
   "file_extension": ".py",
   "mimetype": "text/x-python",
   "name": "python",
   "nbconvert_exporter": "python",
   "pygments_lexer": "ipython3",
   "version": "3.7.13"
  }
 },
 "nbformat": 4,
 "nbformat_minor": 2
}
