{
 "cells": [
  {
   "cell_type": "code",
   "execution_count": 1,
   "metadata": {},
   "outputs": [],
   "source": [
    "from torch.profiler import profile, record_function, ProfilerActivity"
   ]
  },
  {
   "cell_type": "code",
   "execution_count": 2,
   "metadata": {},
   "outputs": [
    {
     "name": "stdout",
     "output_type": "stream",
     "text": [
      "Changing working directory to /home/ubuntu/MonoGS\n",
      "Jupyter environment detected. Enabling Open3D WebVisualizer.\n",
      "[Open3D INFO] WebRTC GUI backend enabled.\n",
      "[Open3D INFO] WebRTCWindowSystem: HTTP handshake server disabled.\n"
     ]
    }
   ],
   "source": [
    "# load a gaussisn model, take a random input and profile the model\n",
    "\n",
    "import os, pathlib \n",
    "ROOT_DIR = os.path.join(str(pathlib.Path.home()), \"MonoGS\")\n",
    "print(f\"Changing working directory to {ROOT_DIR}\")\n",
    "os.chdir(ROOT_DIR)\n",
    "\n",
    "\n",
    "from munch import munchify\n",
    "from utils.config_utils import load_config\n",
    "from utils.dataset import load_dataset\n",
    "\n",
    "pc_path = os.path.join(str(pathlib.Path.home()), \"MonoGS/results/datasets_tum/2024-04-29-18-45-13/point_cloud/final/point_cloud.ply\")\n",
    "config_path = \"./configs/mono/tum/fr3_office.yaml\" \n",
    "config = load_config(config_path)\n",
    "dataset = load_dataset(None, None, config)\n",
    "\n",
    "from gaussian_splatting.scene.gaussian_model import GaussianModel\n",
    "model_params = munchify(config[\"model_params\"])\n",
    "pipeline_params = munchify(config[\"pipeline_params\"])"
   ]
  },
  {
   "cell_type": "code",
   "execution_count": null,
   "metadata": {},
   "outputs": [],
   "source": [
    "with profile(activities=[ProfilerActivity.CUDA], record_shapes=True) as prof:\n",
    "    gaussians = GaussianModel(model_params.sh_degree, config=config)\n",
    "    gaussians.load_ply(pc_path)\n",
    "    prof.step()"
   ]
  }
 ],
 "metadata": {
  "kernelspec": {
   "display_name": "MonoGS",
   "language": "python",
   "name": "python3"
  },
  "language_info": {
   "codemirror_mode": {
    "name": "ipython",
    "version": 3
   },
   "file_extension": ".py",
   "mimetype": "text/x-python",
   "name": "python",
   "nbconvert_exporter": "python",
   "pygments_lexer": "ipython3",
   "version": "3.7.13"
  }
 },
 "nbformat": 4,
 "nbformat_minor": 2
}
